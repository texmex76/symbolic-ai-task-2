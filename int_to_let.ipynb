{
 "cells": [
  {
   "cell_type": "markdown",
   "metadata": {},
   "source": [
    "# KRK: don't compare rows with columns"
   ]
  },
  {
   "cell_type": "code",
   "execution_count": 5,
   "metadata": {},
   "outputs": [],
   "source": [
    "with open(\"our_examples/krk_illegal/krk.f\") as f:\n",
    "    pos_examples = [line.rstrip() for line in f]\n",
    "    \n",
    "with open(\"our_examples/krk_illegal/krk.n\") as f:\n",
    "    neg_examples = [line.rstrip() for line in f]"
   ]
  },
  {
   "cell_type": "code",
   "execution_count": 15,
   "metadata": {},
   "outputs": [],
   "source": [
    "dict_num_to_let = {0: \"a\", 1: \"b\", 2: \"c\", 3: \"d\", 4: \"e\", 5: \"f\", 6: \"g\", 7: \"h\"}"
   ]
  },
  {
   "cell_type": "code",
   "execution_count": 11,
   "metadata": {},
   "outputs": [
    {
     "data": {
      "text/plain": [
       "'illegal(5,1,7,5,7,5).'"
      ]
     },
     "execution_count": 11,
     "metadata": {},
     "output_type": "execute_result"
    }
   ],
   "source": [
    "example = pos_examples[0]\n",
    "example"
   ]
  },
  {
   "cell_type": "code",
   "execution_count": 14,
   "metadata": {},
   "outputs": [
    {
     "data": {
      "text/plain": [
       "('5', '7', '7')"
      ]
     },
     "execution_count": 14,
     "metadata": {},
     "output_type": "execute_result"
    }
   ],
   "source": [
    "example[8], example[12], example[16]"
   ]
  },
  {
   "cell_type": "code",
   "execution_count": 24,
   "metadata": {},
   "outputs": [],
   "source": [
    "def num_to_let(examples_):\n",
    "    examples = []\n",
    "    for example in examples_:\n",
    "        temp = \"\"\n",
    "        for idx, i in enumerate(example):\n",
    "            if idx in [8, 12, 16]:\n",
    "                i = dict_num_to_let[int(i)]\n",
    "            temp += i\n",
    "        examples.append(temp)\n",
    "        \n",
    "    return examples"
   ]
  },
  {
   "cell_type": "code",
   "execution_count": 27,
   "metadata": {},
   "outputs": [],
   "source": [
    "new_pos_examples = num_to_let(pos_examples)\n",
    "new_neg_examples = num_to_let(neg_examples)"
   ]
  },
  {
   "cell_type": "code",
   "execution_count": 29,
   "metadata": {},
   "outputs": [],
   "source": [
    "with open(\"our_examples/krk_illegal/krk_new.f\", \"w\") as f:\n",
    "    for line in new_pos_examples:\n",
    "        f.write(line + \"\\n\")\n",
    "\n",
    "with open(\"our_examples/krk_illegal/krk_new.n\", \"w\") as f:\n",
    "    for line in new_neg_examples:\n",
    "        f.write(line + \"\\n\")"
   ]
  },
  {
   "cell_type": "markdown",
   "metadata": {},
   "source": [
    "Now for the test files."
   ]
  },
  {
   "cell_type": "code",
   "execution_count": 38,
   "metadata": {},
   "outputs": [],
   "source": [
    "with open(\"our_examples/krk_illegal/test.f\") as f:\n",
    "    test_pos_examples = [line.rstrip() for line in f]\n",
    "    \n",
    "with open(\"our_examples/krk_illegal/test.n\") as f:\n",
    "    test_neg_examples = [line.rstrip() for line in f]"
   ]
  },
  {
   "cell_type": "code",
   "execution_count": 41,
   "metadata": {},
   "outputs": [],
   "source": [
    "new_test_pos_examples = num_to_let(test_pos_examples)\n",
    "new_test_neg_examples = num_to_let(test_neg_examples)"
   ]
  },
  {
   "cell_type": "code",
   "execution_count": 43,
   "metadata": {},
   "outputs": [],
   "source": [
    "with open(\"our_examples/krk_illegal/test_new.f\", \"w\") as f:\n",
    "    for line in new_test_pos_examples:\n",
    "        f.write(line + \"\\n\")\n",
    "\n",
    "with open(\"our_examples/krk_illegal/test_new.n\", \"w\") as f:\n",
    "    for line in new_test_neg_examples:\n",
    "        f.write(line + \"\\n\")"
   ]
  },
  {
   "cell_type": "markdown",
   "metadata": {},
   "source": [
    "The flipped files."
   ]
  },
  {
   "cell_type": "code",
   "execution_count": 44,
   "metadata": {},
   "outputs": [],
   "source": [
    "with open(\"our_examples/krk_illegal/krk_flipped.f\") as f:\n",
    "    flipped_pos_examples = [line.rstrip() for line in f]\n",
    "    \n",
    "with open(\"our_examples/krk_illegal/krk_flipped.n\") as f:\n",
    "    flipped_neg_examples = [line.rstrip() for line in f]"
   ]
  },
  {
   "cell_type": "code",
   "execution_count": 45,
   "metadata": {},
   "outputs": [],
   "source": [
    "new_flipped_pos_examples = num_to_let(flipped_pos_examples)\n",
    "new_flipped_neg_examples = num_to_let(flipped_neg_examples)"
   ]
  },
  {
   "cell_type": "code",
   "execution_count": 46,
   "metadata": {},
   "outputs": [],
   "source": [
    "with open(\"our_examples/krk_illegal/krk_flipped_new.f\", \"w\") as f:\n",
    "    for line in new_flipped_pos_examples:\n",
    "        f.write(line + \"\\n\")\n",
    "\n",
    "with open(\"our_examples/krk_illegal/krk_flipped_new.n\", \"w\") as f:\n",
    "    for line in new_flipped_neg_examples:\n",
    "        f.write(line + \"\\n\")"
   ]
  },
  {
   "cell_type": "code",
   "execution_count": 48,
   "metadata": {},
   "outputs": [
    {
     "name": "stdout",
     "output_type": "stream",
     "text": [
      "122\n"
     ]
    }
   ],
   "source": [
    "# new_pos_examples, new_test_pos_examples\n",
    "\n",
    "count = 0\n",
    "for example in new_pos_examples:\n",
    "    if example in new_test_pos_examples:\n",
    "        count += 1\n",
    "print(count)"
   ]
  },
  {
   "cell_type": "code",
   "execution_count": 49,
   "metadata": {},
   "outputs": [
    {
     "name": "stdout",
     "output_type": "stream",
     "text": [
      "245\n"
     ]
    }
   ],
   "source": [
    "count = 0\n",
    "for example in new_neg_examples:\n",
    "    if example in new_test_neg_examples:\n",
    "        count += 1\n",
    "print(count)"
   ]
  },
  {
   "cell_type": "markdown",
   "metadata": {},
   "source": [
    "We also have to add background knowledge for the rows."
   ]
  },
  {
   "cell_type": "code",
   "execution_count": 33,
   "metadata": {},
   "outputs": [],
   "source": [
    "compare = \"\"\"lt(0,1).\n",
    "lt(0,2).\n",
    "lt(0,3).\n",
    "lt(0,4).\n",
    "lt(0,5).\n",
    "lt(0,6).\n",
    "lt(0,7).\n",
    "lt(1,2).\n",
    "lt(1,3).\n",
    "lt(1,4).\n",
    "lt(1,5).\n",
    "lt(1,6).\n",
    "lt(1,7).\n",
    "lt(2,3).\n",
    "lt(2,4).\n",
    "lt(2,5).\n",
    "lt(2,6).\n",
    "lt(2,7).\n",
    "lt(3,4).\n",
    "lt(3,5).\n",
    "lt(3,6).\n",
    "lt(3,7).\n",
    "lt(4,5).\n",
    "lt(4,6).\n",
    "lt(4,7).\n",
    "lt(5,6).\n",
    "lt(5,7).\n",
    "lt(6,7).\n",
    "adj(0,0).\n",
    "adj(1,1).\n",
    "adj(2,2).\n",
    "adj(3,3).\n",
    "adj(4,4).\n",
    "adj(5,5).\n",
    "adj(6,6).\n",
    "adj(7,7).\n",
    "adj(0,1).\n",
    "adj(1,2).\n",
    "adj(2,3).\n",
    "adj(3,4).\n",
    "adj(4,5).\n",
    "adj(5,6).\n",
    "adj(6,7).\n",
    "adj(7,6).\n",
    "adj(6,5).\n",
    "adj(5,4).\n",
    "adj(4,3).\n",
    "adj(3,2).\n",
    "adj(2,1).\n",
    "adj(1,0).\"\"\".split(\"\\n\")"
   ]
  },
  {
   "cell_type": "code",
   "execution_count": 35,
   "metadata": {},
   "outputs": [],
   "source": [
    "def num_to_let2(examples_):\n",
    "    examples = []\n",
    "    for example in examples_:\n",
    "        temp = \"\"\n",
    "        if example[0] == \"l\":\n",
    "            for idx, i in enumerate(example):\n",
    "                if idx in [3, 5]:\n",
    "                    i = dict_num_to_let[int(i)]\n",
    "                temp += i\n",
    "            examples.append(temp)\n",
    "        elif example[0] == \"a\":\n",
    "            for idx, i in enumerate(example):\n",
    "                if idx in [4, 6]:\n",
    "                    i = dict_num_to_let[int(i)]\n",
    "                temp += i\n",
    "            examples.append(temp)\n",
    "        else:\n",
    "            \"You teapot this shouldn't happen!\"\n",
    "        \n",
    "    return examples"
   ]
  },
  {
   "cell_type": "code",
   "execution_count": 37,
   "metadata": {},
   "outputs": [
    {
     "name": "stdout",
     "output_type": "stream",
     "text": [
      "lt(a,b).\n",
      "lt(a,c).\n",
      "lt(a,d).\n",
      "lt(a,e).\n",
      "lt(a,f).\n",
      "lt(a,g).\n",
      "lt(a,h).\n",
      "lt(b,c).\n",
      "lt(b,d).\n",
      "lt(b,e).\n",
      "lt(b,f).\n",
      "lt(b,g).\n",
      "lt(b,h).\n",
      "lt(c,d).\n",
      "lt(c,e).\n",
      "lt(c,f).\n",
      "lt(c,g).\n",
      "lt(c,h).\n",
      "lt(d,e).\n",
      "lt(d,f).\n",
      "lt(d,g).\n",
      "lt(d,h).\n",
      "lt(e,f).\n",
      "lt(e,g).\n",
      "lt(e,h).\n",
      "lt(f,g).\n",
      "lt(f,h).\n",
      "lt(g,h).\n",
      "adj(a,a).\n",
      "adj(b,b).\n",
      "adj(c,c).\n",
      "adj(d,d).\n",
      "adj(e,e).\n",
      "adj(f,f).\n",
      "adj(g,g).\n",
      "adj(h,h).\n",
      "adj(a,b).\n",
      "adj(b,c).\n",
      "adj(c,d).\n",
      "adj(d,e).\n",
      "adj(e,f).\n",
      "adj(f,g).\n",
      "adj(g,h).\n",
      "adj(h,g).\n",
      "adj(g,f).\n",
      "adj(f,e).\n",
      "adj(e,d).\n",
      "adj(d,c).\n",
      "adj(c,b).\n",
      "adj(b,a).\n"
     ]
    }
   ],
   "source": [
    "new_compare = num_to_let2(compare)\n",
    "for i in new_compare:\n",
    "    print(i)"
   ]
  }
 ],
 "metadata": {
  "kernelspec": {
   "display_name": "Python 3",
   "language": "python",
   "name": "python3"
  },
  "language_info": {
   "codemirror_mode": {
    "name": "ipython",
    "version": 3
   },
   "file_extension": ".py",
   "mimetype": "text/x-python",
   "name": "python",
   "nbconvert_exporter": "python",
   "pygments_lexer": "ipython3",
   "version": "3.8.2"
  }
 },
 "nbformat": 4,
 "nbformat_minor": 4
}

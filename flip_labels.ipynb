{
 "cells": [
  {
   "cell_type": "markdown",
   "metadata": {},
   "source": [
    "# Flip 5% of all labels"
   ]
  },
  {
   "cell_type": "code",
   "execution_count": 3,
   "metadata": {},
   "outputs": [],
   "source": [
    "import numpy as np"
   ]
  },
  {
   "cell_type": "code",
   "execution_count": 38,
   "metadata": {},
   "outputs": [],
   "source": [
    "with open(\"our_examples/krk_illegal/krk.f\") as f:\n",
    "    pos_examples = [line.rstrip() for line in f]\n",
    "    \n",
    "with open(\"our_examples/krk_illegal/krk.n\") as f:\n",
    "    neg_examples = [line.rstrip() for line in f]"
   ]
  },
  {
   "cell_type": "code",
   "execution_count": 39,
   "metadata": {},
   "outputs": [
    {
     "data": {
      "text/plain": [
       "10000"
      ]
     },
     "execution_count": 39,
     "metadata": {},
     "output_type": "execute_result"
    }
   ],
   "source": [
    "total_examples = len(pos_examples) + len(neg_examples)\n",
    "total_examples"
   ]
  },
  {
   "cell_type": "code",
   "execution_count": 40,
   "metadata": {},
   "outputs": [
    {
     "data": {
      "text/plain": [
       "array([3853, 8532, 3067, 7246, 8280])"
      ]
     },
     "execution_count": 40,
     "metadata": {},
     "output_type": "execute_result"
    }
   ],
   "source": [
    "flip_idx = np.random.choice(list(range(total_examples)), size=int(total_examples * 0.05))\n",
    "flip_idx[:5]"
   ]
  },
  {
   "cell_type": "code",
   "execution_count": 43,
   "metadata": {},
   "outputs": [
    {
     "data": {
      "text/plain": [
       "['illegal(4,2,1,1,0,0).', 0]"
      ]
     },
     "execution_count": 43,
     "metadata": {},
     "output_type": "execute_result"
    }
   ],
   "source": [
    "examples = [[x, 1] for x in pos_examples]\n",
    "for x in neg_examples:\n",
    "    examples.append([x, 0])\n",
    "examples[3853]"
   ]
  },
  {
   "cell_type": "code",
   "execution_count": 44,
   "metadata": {},
   "outputs": [],
   "source": [
    "for idx in flip_idx:\n",
    "    label = examples[idx][1]\n",
    "    flipped_label = 1 if label == 0 else 0\n",
    "    examples[idx][1] = flipped_label"
   ]
  },
  {
   "cell_type": "code",
   "execution_count": 45,
   "metadata": {},
   "outputs": [
    {
     "data": {
      "text/plain": [
       "['illegal(4,2,1,1,0,0).', 1]"
      ]
     },
     "execution_count": 45,
     "metadata": {},
     "output_type": "execute_result"
    }
   ],
   "source": [
    "examples[3853]"
   ]
  },
  {
   "cell_type": "code",
   "execution_count": 57,
   "metadata": {},
   "outputs": [],
   "source": [
    "pos_new_examples = [x[0] for x in examples if x[1] == 1]\n",
    "neg_new_examples = [x[0] for x in examples if x[1] == 0]"
   ]
  },
  {
   "cell_type": "code",
   "execution_count": 59,
   "metadata": {},
   "outputs": [],
   "source": [
    "with open(\"our_examples/krk_illegal/krk_flipped.f\", \"w\") as f:\n",
    "    for line in pos_new_examples:\n",
    "        f.write(line + \"\\n\")\n",
    "\n",
    "with open(\"our_examples/krk_illegal/krk_flipped.n\", \"w\") as f:\n",
    "    for line in neg_new_examples:\n",
    "        f.write(line + \"\\n\")"
   ]
  },
  {
   "cell_type": "markdown",
   "metadata": {},
   "source": [
    "# Everything in one cell"
   ]
  },
  {
   "cell_type": "code",
   "execution_count": null,
   "metadata": {},
   "outputs": [],
   "source": [
    "import numpy as np\n",
    "\n",
    "with open(\"our_examples/krk_illegal/krk.f\") as f:\n",
    "    pos_examples = [line.rstrip() for line in f]\n",
    "\n",
    "with open(\"our_examples/krk_illegal/krk.n\") as f:\n",
    "    neg_examples = [line.rstrip() for line in f]\n",
    "\n",
    "total_examples = len(pos_examples) + len(neg_examples)\n",
    "\n",
    "flip_idx = np.random.choice(\n",
    "    list(range(total_examples)), size=int(total_examples * 0.05)\n",
    ")\n",
    "\n",
    "examples = [[x, 1] for x in pos_examples]\n",
    "for x in neg_examples:\n",
    "    examples.append([x, 0])\n",
    "\n",
    "for idx in flip_idx:\n",
    "    label = examples[idx][1]\n",
    "    flipped_label = 1 if label == 0 else 0\n",
    "    examples[idx][1] = flipped_label\n",
    "\n",
    "pos_new_examples = [x[0] for x in examples if x[1] == 1]\n",
    "neg_new_examples = [x[0] for x in examples if x[1] == 0]\n",
    "\n",
    "with open(\"our_examples/krk_illegal/krk_flipped.f\", \"w\") as f:\n",
    "    for line in pos_new_examples:\n",
    "        f.write(line + \"\\n\")\n",
    "\n",
    "with open(\"our_examples/krk_illegal/krk_flipped.n\", \"w\") as f:\n",
    "    for line in neg_new_examples:\n",
    "        f.write(line + \"\\n\")"
   ]
  }
 ],
 "metadata": {
  "kernelspec": {
   "display_name": "Python 3",
   "language": "python",
   "name": "python3"
  },
  "language_info": {
   "codemirror_mode": {
    "name": "ipython",
    "version": 3
   },
   "file_extension": ".py",
   "mimetype": "text/x-python",
   "name": "python",
   "nbconvert_exporter": "python",
   "pygments_lexer": "ipython3",
   "version": "3.8.2"
  }
 },
 "nbformat": 4,
 "nbformat_minor": 4
}
